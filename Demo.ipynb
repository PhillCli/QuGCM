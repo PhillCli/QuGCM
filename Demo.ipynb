{
 "cells": [
  {
   "cell_type": "code",
   "execution_count": 1,
   "id": "cfb6d655",
   "metadata": {},
   "outputs": [
    {
     "data": {
      "text/plain": [
       "{'qiskit-terra': '0.22.2', 'qiskit-aer': '0.11.1', 'qiskit-ignis': '0.7.1', 'qiskit-ibmq-provider': '0.19.2', 'qiskit': '0.39.2', 'qiskit-nature': '0.4.5', 'qiskit-finance': None, 'qiskit-optimization': None, 'qiskit-machine-learning': '0.6.0'}"
      ]
     },
     "execution_count": 1,
     "metadata": {},
     "output_type": "execute_result"
    }
   ],
   "source": [
    "# Used in the notebook\n",
    "import qiskit\n",
    "import scipy.linalg as sl # eigh function for generalized eigenvalue problem\n",
    "from numpy.random import Generator, PCG64\n",
    "import time\n",
    "from datetime import timedelta\n",
    "from qiskit import QuantumCircuit, QuantumRegister, ClassicalRegister, transpile, execute \n",
    "from qiskit_nature.circuit.library import HartreeFock\n",
    "from qiskit.providers.aer import AerSimulator,QasmSimulator\n",
    "\n",
    "\n",
    "from qugcm import *\n",
    "from example_molecules import *\n",
    "qiskit.__qiskit_version__"
   ]
  },
  {
   "cell_type": "markdown",
   "id": "224b8a75",
   "metadata": {},
   "source": [
    "## Select/Input molecule information\n",
    "Information of linear H4 and almost-square H4 are saved in `experiment_molecules.py` already"
   ]
  },
  {
   "cell_type": "code",
   "execution_count": 2,
   "id": "91e87c3b",
   "metadata": {},
   "outputs": [],
   "source": [
    "#--------- Inputs ---------#\n",
    "data_folder = 'Data/' # <-- where to save the data if required\n",
    "## Molecule parameters\n",
    "tested_molecule = H4S # <-- Change here for H4L, and H4S (Linear H4, Almost square H4)\n",
    "## Obtain the configuration of Basis (in Qiskit conversion)\n",
    "basis_config_qis = H4_ALT_BASIS_CONFIG_QIS # <-- change according to \"tested_molecule\"\n",
    "#--------------------------#\n",
    "## Obtain information based on above inputs\n",
    "total_energy_wc_repulsion = tested_molecule.total_wcrep\n",
    "HF_energy_wc_repulsion_energy = tested_molecule.HF_wcrep\n",
    "num_spin_orbitals = tested_molecule.norb\n",
    "num_particles = tested_molecule.nptc\n",
    "MAPPING = tested_molecule.mapping\n",
    "qubit_op = tested_molecule.ham_op\n",
    "## Use Hartree Fock as initial state\n",
    "init_state = HartreeFock(num_spin_orbitals=num_spin_orbitals, \n",
    "                         num_particles=num_particles,\n",
    "                         qubit_converter=QUBIT_CONVERTER)\n",
    "## Check lowest eigenvalues using numpy if necessary\n",
    "# w_ham,v_ham = nl.eigh(qubit_op.to_matrix())\n",
    "# print(\"True lowest eigenvalue: {:.4f}, After JW transform: {.4f}\".format(total_energy_wc_repulsion, \n",
    "#                                                                                w_ham[0]))"
   ]
  },
  {
   "cell_type": "markdown",
   "id": "7b3c180b",
   "metadata": {},
   "source": [
    "## Setup the simulator, choose parameter values (t's) and interested basis"
   ]
  },
  {
   "cell_type": "code",
   "execution_count": 3,
   "id": "ca548493",
   "metadata": {},
   "outputs": [
    {
     "name": "stdout",
     "output_type": "stream",
     "text": [
      "t's (t1 to the end): [25.96260158 69.6794953  18.18546335 75.88296988 59.46456129 79.74292489]\n"
     ]
    }
   ],
   "source": [
    "seed = 1976141\n",
    "num_shots = 1 # not required for AerSimulator because it always have infinite number of shots\n",
    "backend = AerSimulator(method='statevector') # NO GPU acceleration on Windows, also seems not on WSL2\n",
    "\n",
    "## Generate t's\n",
    "rng = Generator(PCG64(seed))\n",
    "ts = rng.random(6)*100 # only non-composite\n",
    "ts = np.append([1], ts) # Inserting 1 for R0\n",
    "print('t\\'s (t1 to the end):', ts[1:])"
   ]
  },
  {
   "cell_type": "code",
   "execution_count": 4,
   "id": "b21b2074",
   "metadata": {},
   "outputs": [
    {
     "name": "stdout",
     "output_type": "stream",
     "text": [
      "Number of Basis: 15\n"
     ]
    }
   ],
   "source": [
    "## H4\n",
    "basis_interested = ['R0',\n",
    "                    '+R1', '-R1', \n",
    "                    '+R2', '-R2', \n",
    "                    '+R3', '-R3', \n",
    "                    '+R4', '-R4',\n",
    "                    '+R3+R5', '+R4+R6',\n",
    "                   '+R2+R1', '+R2-R1', '-R2+R1', '-R2-R1'] # for computation inputs, all basis that of interest, characters are capitalized\n",
    "basis_displayed = ['R0',\n",
    "                    '+R1', '-R1', '+R2', '-R2', \n",
    "                    '+R3', '-R3', '+R4', '-R4','R7','R8',\n",
    "                   '+R2+R1', '+R2-R1', '-R2+R1', '-R2-R1'] # for displaying the matrix, R5 to R8 has no sign\n",
    "\n",
    "num_of_basis = len(basis_interested)\n",
    "print(\"Number of Basis: {:d}\".format(num_of_basis))"
   ]
  },
  {
   "cell_type": "markdown",
   "id": "93f1ddbb",
   "metadata": {},
   "source": [
    "## Compute S and H, then solved the generalized eigenvalue problem\n",
    "\n",
    "First, try to find the expectation (i.e., every matrix entry) classically."
   ]
  },
  {
   "cell_type": "code",
   "execution_count": 5,
   "id": "fb8891d2",
   "metadata": {},
   "outputs": [
    {
     "name": "stdout",
     "output_type": "stream",
     "text": [
      "Classical\n",
      "Time Elapsed (hh:mm:ss):  0:03:30.629908\n",
      "First 3 lowest eigenvalue of S: 0.0200, 0.0229, 0.0454\n"
     ]
    }
   ],
   "source": [
    "print(\"Classical\")\n",
    "start_time = time.time()\n",
    "S_class,H_class = est_SH_class(qubit_op,\n",
    "                    basis_interested, ts, \n",
    "                    basis_config_qis,\n",
    "                    init_state, \n",
    "                    num_spin_orbitals, num_particles, print_progress=False)\n",
    "\n",
    "end_time = time.time()\n",
    "time_elp = end_time - start_time\n",
    "print(\"Time Elapsed (hh:mm:ss): \", timedelta(seconds=time_elp))\n",
    "w_s,v_s = np.linalg.eigh(S_class)\n",
    "print(\"First 3 lowest eigenvalue of S: {:.4f}, {:.4f}, {:.4f}\".format(w_s[0], w_s[1], w_s[2]))"
   ]
  },
  {
   "cell_type": "code",
   "execution_count": 9,
   "id": "896a9062",
   "metadata": {},
   "outputs": [
    {
     "name": "stdout",
     "output_type": "stream",
     "text": [
      "Lowest eigenvalue of the generalize eigenvalue problem: -4.629237,\n",
      "Thoertical result: -4.629382\n",
      "Error: 1.459198e-04\n"
     ]
    }
   ],
   "source": [
    "w_class,v_class = sl.eigh(H_class, S_class)\n",
    "print(\"Lowest eigenvalue of the generalize eigenvalue problem: {:.6f},\".format(w_class[0]))\n",
    "print(\"Thoertical result: {:.6f}\".format(total_energy_wc_repulsion))\n",
    "print(\"Error: {:.6e}\".format(np.abs(total_energy_wc_repulsion - w_class[0])))"
   ]
  },
  {
   "cell_type": "markdown",
   "id": "0ea1bc23",
   "metadata": {},
   "source": [
    "For the computation in simulator, use a smaller set of basis instead (for **demo purpose**)."
   ]
  },
  {
   "cell_type": "code",
   "execution_count": 14,
   "id": "bc814fa8",
   "metadata": {},
   "outputs": [],
   "source": [
    "## H4\n",
    "basis_interested = ['R0','+R1']\n",
    "basis_displayed = basis_interested"
   ]
  },
  {
   "cell_type": "code",
   "execution_count": 20,
   "id": "027c7541",
   "metadata": {},
   "outputs": [
    {
     "name": "stdout",
     "output_type": "stream",
     "text": [
      "Simulator\n",
      "Time Elapsed (hh:mm:ss):  0:02:09.907916\n",
      "First 2 lowest eigenvalue of S: 0.5444, 1.4556\n"
     ]
    },
    {
     "data": {
      "image/png": "[encoded data removed]",
      "text/plain": [
       "<Figure size 1200x600 with 4 Axes>"
      ]
     },
     "metadata": {
      "needs_background": "light"
     },
     "output_type": "display_data"
    }
   ],
   "source": [
    "print('Simulator')\n",
    "## Computing matrices for generalized eigenvalue problem Hv = ESv\n",
    "start_time = time.time()\n",
    "S,H = est_SH_qwc(qubit_op,\n",
    "                basis_interested, ts, \n",
    "                basis_config_qis,\n",
    "                init_state, \n",
    "                num_spin_orbitals, num_particles,\n",
    "                backend,num_shots=num_shots, opt_level=1, seed=seed)\n",
    "end_time = time.time()\n",
    "time_elp = end_time - start_time\n",
    "print(\"Time Elapsed (hh:mm:ss): \", timedelta(seconds=time_elp))\n",
    "print(\"Time Elapsed (hh:mm:ss):  0:02:09.907916\")\n",
    "\n",
    "## Verify singularity of S\n",
    "w_s,v_s = np.linalg.eigh(S)\n",
    "print(\"First 2 lowest eigenvalue of S: {:.4f}, {:.4f}\".format(w_s[0], w_s[1]))\n",
    "plot_sh(S.real, H.real, basis_displayed, save_name=None, exp_name='')"
   ]
  },
  {
   "cell_type": "code",
   "execution_count": 21,
   "id": "2bbd3532",
   "metadata": {},
   "outputs": [
    {
     "name": "stdout",
     "output_type": "stream",
     "text": [
      "Lowest eigenvalue of the generalize eigenvalue problem: -4.506519,\n",
      "Thoertical result: -4.629382\n",
      "Error: 1.228636e-01\n"
     ]
    }
   ],
   "source": [
    "## Solve generalize eigenvalue problem\n",
    "w_nh, v_nh = sl.eigh(H, S)\n",
    "print(\"Lowest eigenvalue of the generalize eigenvalue problem: {:.6f},\".format(w_nh[0]))\n",
    "print(\"Thoertical result: {:.6f}\".format(total_energy_wc_repulsion))\n",
    "print(\"Error: {:.6e}\".format(np.abs(total_energy_wc_repulsion - w_nh[0])))"
   ]
  },
  {
   "cell_type": "markdown",
   "id": "6cc253d1",
   "metadata": {},
   "source": [
    "With 15 basis, we can obtain the error described in the paper."
   ]
  },
  {
   "cell_type": "code",
   "execution_count": 22,
   "id": "d624773f",
   "metadata": {},
   "outputs": [
    {
     "name": "stdout",
     "output_type": "stream",
     "text": [
      "9.694605782931786e-16\n",
      "8.881784197061476e-16\n"
     ]
    }
   ],
   "source": [
    "# A simple check: if ||Hv - ESv|| = 0 for all E and v\n",
    "for i in range(S.shape[0]):\n",
    "    print(np.linalg.norm(H.dot(v_nh[:,i]) - w_nh[i]*S.dot(v_nh[:,i])))"
   ]
  },
  {
   "cell_type": "code",
   "execution_count": null,
   "id": "076f5a1e",
   "metadata": {},
   "outputs": [],
   "source": []
  }
 ],
 "metadata": {
  "kernelspec": {
   "display_name": "Python 3",
   "language": "python",
   "name": "python3"
  },
  "language_info": {
   "codemirror_mode": {
    "name": "ipython",
    "version": 3
   },
   "file_extension": ".py",
   "mimetype": "text/x-python",
   "name": "python",
   "nbconvert_exporter": "python",
   "pygments_lexer": "ipython3",
   "version": "3.9.7"
  },
  "vscode": {
   "interpreter": {
    "hash": "b4cbf023d42c9a711eee86e9e401e0c70ec251e5cb6279ce0c7251e77332a439"
   }
  }
 },
 "nbformat": 4,
 "nbformat_minor": 5
}
